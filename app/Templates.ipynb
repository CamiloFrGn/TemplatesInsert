{
 "cells": [
  {
   "cell_type": "code",
   "execution_count": 3,
   "metadata": {},
   "outputs": [],
   "source": [
    "#librerias\n",
    "import numpy as np\n",
    "import pandas as pd"
   ]
  },
  {
   "cell_type": "code",
   "execution_count": 23,
   "metadata": {},
   "outputs": [],
   "source": [
    "#SF_AT1_DimensionGeografica\n",
    "dataset = pd.read_excel(\"../datos/SF_AT1_DimensionGeografica.xlsx\")\n",
    "dataset['query'] = 'INSERT INTO \"DEV_TDS_SCAC_COMMERCIAL\".\"CEX_PPI\".\"SF_AT1_DimensionGeografica\" VALUES(' + \"'\" + dataset['Pais'] +\"','\" + dataset['Desc Cluster'] + \"','\" +  dataset['Ciudad_Cluster']  + \"','\" + dataset['Centro']  + \"','\" + dataset['Plantas_Fijas']  + \"','\" + dataset['Planta Unica']  + \"',\" + str(dataset['Activo'])  + \",'\"+  dataset['ZonaComercial']  + \"','\" + dataset['GrupoGeografico']  + \"','\" + dataset['IntegracionGPS']  + \"','\" + dataset['Planeacion']  + \"','\" + dataset['Asignacion']   + \"')\"  "
   ]
  },
  {
   "cell_type": "code",
   "execution_count": 25,
   "metadata": {},
   "outputs": [],
   "source": [
    "dataset.to_excel('resultado_query.xlsx')"
   ]
  },
  {
   "cell_type": "code",
   "execution_count": null,
   "metadata": {},
   "outputs": [],
   "source": []
  }
 ],
 "metadata": {
  "kernelspec": {
   "display_name": "Python 3",
   "language": "python",
   "name": "python3"
  },
  "language_info": {
   "codemirror_mode": {
    "name": "ipython",
    "version": 3
   },
   "file_extension": ".py",
   "mimetype": "text/x-python",
   "name": "python",
   "nbconvert_exporter": "python",
   "pygments_lexer": "ipython3",
   "version": "3.8.5"
  }
 },
 "nbformat": 4,
 "nbformat_minor": 4
}
